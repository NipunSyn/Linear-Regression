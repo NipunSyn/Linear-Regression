{
  "nbformat": 4,
  "nbformat_minor": 0,
  "metadata": {
    "colab": {
      "name": "FODSAssignment2.ipynb",
      "provenance": [],
      "collapsed_sections": []
    },
    "kernelspec": {
      "name": "python3",
      "display_name": "Python 3"
    }
  },
  "cells": [
    {
      "cell_type": "code",
      "metadata": {
        "id": "-O-M3y4gmvyy"
      },
      "source": [
        ""
      ],
      "execution_count": null,
      "outputs": []
    },
    {
      "cell_type": "markdown",
      "metadata": {
        "id": "EuzbY0ujQ3VJ"
      },
      "source": [
        "**Q2 - NORMALIZING EQUATIONS**"
      ]
    },
    {
      "cell_type": "code",
      "metadata": {
        "id": "ipsAwUMOQ2nr"
      },
      "source": [
        "import numpy as np\n",
        "import pandas as pd\n",
        "from matplotlib import pyplot as plt\n",
        "#from google.colab import files\n",
        "#uploaded = files.upload()\n",
        "\n",
        "\n",
        "data = pd.read_csv('insurance.txt')\n",
        "train_rmse = []\n",
        "test_rmse = []\n",
        "weights = []\n",
        "\n",
        "def preproc(data):                                \n",
        "    #Independent variables extracted from dataframe\n",
        "    X = data.iloc[:,:-1].to_numpy()               \n",
        "    \n",
        "    #Dependent variables extracted from dataframe\n",
        "    Y = data.iloc[:,-1].to_numpy()                \n",
        "    \n",
        "    #Normalising X \n",
        "    X[:, 0:2] = (X[:, 0:2] - X[:, 0:2].mean(axis = 0))/ X[:, 0:2].std(axis = 0) \n",
        "\n",
        "    #Scaling Y \n",
        "    standard_fac = np.median(Y, axis = 0) \n",
        "    Y = Y / np.median(Y, axis = 0)\n",
        "\n",
        "    #Appeding column of ones for the bias foe X\n",
        "    one = np.ones((X.shape[0],1))\n",
        "    X = np.concatenate((one, X), axis = 1)\n",
        "    Y = Y.reshape((Y.shape[0], 1))\n",
        "    \n",
        "    return X, Y, standard_fac\n",
        "\n",
        "class LinearRegression:\n",
        "    def __init__(self, X, Y):\n",
        "        self.X = X\n",
        "        self.Y = Y \n",
        "        self.W = np.ones((1, X.shape[1]))  \n",
        "        #weight vector\n",
        "        \n",
        "    def train_test_split(self, splt = 0.7):    \n",
        "       #generate training and test set\n",
        "        \n",
        "        split_size = int(X.shape[0] * splt)\n",
        "        \n",
        "        X_train = X[:split_size, :]\n",
        "        X_test = X[split_size:, :]\n",
        "        Y_train = Y[:split_size, :]\n",
        "        Y_test = Y[split_size:, :]\n",
        "        \n",
        "        \n",
        "        return X_train, Y_train, X_test, Y_test\n",
        "    \n",
        "    def norm_model(self, X_train, Y_train):\n",
        "        W = np.matmul((np.linalg.inv(np.matmul(X_train.T,X_train))) , np.matmul(X_train.T, Y_train)).T \n",
        "        # W = [(X'X)^-1]X'Y Normal equation\n",
        "\n",
        "        self.W = W\n",
        "        #Weights W = [w0 w1 w2 w3] w0 = bias, w1 = weight of age(normalized), w2 = weight of bmi(normalized), w3 = weight of number of children(normalized)\n",
        "        return W\n",
        "    \n",
        "    def predict(self, X_test):      \n",
        "        #predictions using the obtained regression weights\n",
        "        pred = np.matmul(X_test, self.W.T) \n",
        "        \n",
        "        return pred\n",
        "    \n",
        "    def root_mean_sqr_error(self, pred, Y_test, stand_fac):    \n",
        "        #cost calculation\n",
        "        m = Y_test.shape[0]\n",
        "        rmse = np.sqrt((1/m) * np.sum(np.square(stand_fac * (pred - Y_test))))\n",
        "        \n",
        "        return rmse\n",
        "\n",
        "for m in range(20):\n",
        "    data = data.sample(frac = 1, random_state = m)\n",
        "\n",
        "    X, Y, standardizing_factor = preproc(data)      \n",
        "    lg = LinearRegression(X, Y)\n",
        "    X_tr, Y_tr, X_tes, Y_tes = lg.train_test_split()\n",
        "    weight = lg.norm_model(X_tr, Y_tr)\n",
        "    p_tr = lg.predict(X_tr)     \n",
        "    p_tes = lg.predict(X_tes)\n",
        "    rmse_tr = lg.root_mean_sqr_error(p_tr, Y_tr, standardizing_factor)\n",
        "    rmse_tes = lg.root_mean_sqr_error(p_tes, Y_tes, standardizing_factor)\n",
        "    train_rmse.append(rmse_tr)\n",
        "    test_rmse.append(rmse_tes)\n",
        "    weights.append(weight)                \n"
      ],
      "execution_count": null,
      "outputs": []
    },
    {
      "cell_type": "markdown",
      "metadata": {
        "id": "RT9KS7jaQ9Im"
      },
      "source": [
        "\n",
        "**Q2 - GRADIENT DESCENT**"
      ]
    },
    {
      "cell_type": "markdown",
      "metadata": {
        "id": "DTUmPz32f76e"
      },
      "source": [
        "Loading Libraries"
      ]
    },
    {
      "cell_type": "code",
      "metadata": {
        "id": "M8fvyjZQQ7jx"
      },
      "source": [
        "import numpy as np \n",
        "from matplotlib import pyplot as plt \n",
        "import pandas as pd"
      ],
      "execution_count": null,
      "outputs": []
    },
    {
      "cell_type": "markdown",
      "metadata": {
        "id": "i_wbTWsCzppL"
      },
      "source": [
        "Initialization"
      ]
    },
    {
      "cell_type": "code",
      "metadata": {
        "id": "CNE9WJcSzh53"
      },
      "source": [
        "def initialisation(len_theta):\n",
        "    theta = np.random.randn(1, len_theta)\n",
        "    bias = 0\n",
        "    return theta, bias"
      ],
      "execution_count": null,
      "outputs": []
    },
    {
      "cell_type": "code",
      "metadata": {
        "id": "4CIZs0c-ztlK"
      },
      "source": [
        "def forwardPropagation(x, theta, bias):\n",
        "    z = np.matmul(theta, x) + bias\n",
        "    return z"
      ],
      "execution_count": null,
      "outputs": []
    },
    {
      "cell_type": "code",
      "metadata": {
        "id": "ypb4rWbjzxNA"
      },
      "source": [
        "def cost_function(z, y):\n",
        "    m = y.shape[1]\n",
        "    J = 1/m * np.sum(np.square(z - y))\n",
        "    return J"
      ],
      "execution_count": null,
      "outputs": []
    },
    {
      "cell_type": "code",
      "metadata": {
        "id": "JbUHzuirz2WV"
      },
      "source": [
        "def backPropagation(x, y, z):\n",
        "    m = y.shape[1]\n",
        "    der_z = 1/m * (z - y)\n",
        "    der_theta = np.matmul(der_z, x.T)\n",
        "    der_bias = np.sum(der_z)\n",
        "    return der_theta, der_bias"
      ],
      "execution_count": null,
      "outputs": []
    },
    {
      "cell_type": "markdown",
      "metadata": {
        "id": "T6TwEJ-uz942"
      },
      "source": [
        "Gradient Descent"
      ]
    },
    {
      "cell_type": "code",
      "metadata": {
        "id": "0bgzioH-z83C"
      },
      "source": [
        "def gradient_descent(theta, bias, der_theta, der_bias, alpha):\n",
        "    theta = theta - alpha*der_theta\n",
        "    bias = bias - alpha*der_bias\n",
        "    return theta, bias"
      ],
      "execution_count": null,
      "outputs": []
    },
    {
      "cell_type": "code",
      "metadata": {
        "id": "SbS6OfhYbdeJ"
      },
      "source": [
        "def predict(x_data, theta, bias):\n",
        "  return (np.matmul(theta, x_data) + bias)"
      ],
      "execution_count": null,
      "outputs": []
    },
    {
      "cell_type": "markdown",
      "metadata": {
        "id": "Yx6t71OV0Goe"
      },
      "source": [
        "Hypothesis and parameterization"
      ]
    },
    {
      "cell_type": "code",
      "metadata": {
        "id": "pA2g63NE0ALL"
      },
      "source": [
        "def hypothesis(x_train, y_train, x_test, y_test, alpha, iterations, median):\n",
        "    len_theta = x_train.shape[0]\n",
        "    theta, bias = initialisation(len_theta)\n",
        "    costs = []\n",
        "    errors = []\n",
        "    m_train = y_train.shape[1]\n",
        "    m_test = y_test.shape[1]\n",
        "\n",
        "    for i in range(1, iterations+1):\n",
        "        z_train = forwardPropagation(x_train, theta, bias)\n",
        "        cost_train = cost_function(z_train, y_train)\n",
        "        der_theta, der_bias = backPropagation(x_train, y_train, z_train)\n",
        "        theta, bias = gradient_descent(theta, bias, der_theta, der_bias, alpha)\n",
        "        costs.append(cost_train)\n",
        "        train_accuracy = (1/m_train) * np.sum(np.square((z_train-y_train) * median))\n",
        "        errors.append(train_accuracy)\n",
        "        \n",
        "        z_test = forwardPropagation(x_test, theta, bias)\n",
        "        cost_test = cost_function(z_test, y_test)\n",
        "        test_accuracy = (1/m_test) * np.sum(np.square((z_test-y_test) * median))\n",
        "\n",
        "        # if i%100 == 0:\n",
        "        #     print ('Epoch ' + str(i) + '/' + str(iterations) + ': ')\n",
        "        #     print ('Training Cost ' + str(cost_train) + '|' + 'Testing Cost' + str(cost_test))\n",
        "        #     print ('Training Accuracy ' + str(train_accuracy) + '|' + 'Testing Accuracy' + str(test_accuracy))\n",
        "    \n",
        "    # plt.plot( np.array(range(iterations)), errors)\n",
        "    # plt.xlabel('Iteration')\n",
        "    # plt.ylabel('Training Error')\n",
        "    # plt.title('Learing Rate: ' + str(alpha))\n",
        "    # plt.show()\n",
        "\n",
        "    train_root = np.sqrt(train_accuracy)\n",
        "    test_root = np.sqrt(test_accuracy)\n",
        "    return theta, bias, train_root, test_root"
      ],
      "execution_count": null,
      "outputs": []
    },
    {
      "cell_type": "markdown",
      "metadata": {
        "id": "fdj-t_5G0Tff"
      },
      "source": [
        "Preprocessing Data"
      ]
    },
    {
      "cell_type": "code",
      "metadata": {
        "id": "ywrpWSlj0SQl"
      },
      "source": [
        "# importing and preprocessing data\n",
        "data = pd.read_csv('insurance.txt')\n",
        "def preprocessing(data, seed):\n",
        "    \n",
        "\n",
        "    y_data = data['charges']\n",
        "    y_median = y_data.median()\n",
        "    y_data = y_data/y_data.median()\n",
        "    x_data = data.drop('charges', axis = 1)\n",
        "    x_data = (x_data-x_data.mean())/x_data.std()\n",
        "\n",
        "\n",
        "    # random shuffle\n",
        "    num_rows = int(data.shape[0]*0.7)\n",
        "    indices = np.array(range(data.shape[0]))\n",
        "    np.random.seed(seed)\n",
        "    np.random.shuffle(indices)\n",
        "    train = indices[:num_rows]\n",
        "    test = indices[num_rows:]\n",
        "\n",
        "    # splitting data\n",
        "    x_train, x_test = x_data.iloc[train].to_numpy(), x_data.iloc[test].to_numpy()\n",
        "    y_train, y_test = y_data.iloc[train].to_numpy(), y_data.iloc[test].to_numpy()\n",
        "    y_train = y_train.reshape((len(train), 1))\n",
        "    y_test = y_test.reshape((len(test), 1))\n",
        "\n",
        "    x_train, x_test = x_train.T, x_test.T\n",
        "    y_train, y_test = y_train.T, y_test.T\n",
        "\n",
        "    return x_train, y_train, x_test, y_test, y_median\n"
      ],
      "execution_count": null,
      "outputs": []
    },
    {
      "cell_type": "code",
      "metadata": {
        "id": "VvQkDLj_qlt-"
      },
      "source": [
        "x_train, y_train, x_test, y_test, median_y = preprocessing(data, 0)"
      ],
      "execution_count": null,
      "outputs": []
    },
    {
      "cell_type": "markdown",
      "metadata": {
        "id": "kyn3NLy70g7Z"
      },
      "source": [
        "Testing Model"
      ]
    },
    {
      "cell_type": "code",
      "metadata": {
        "id": "KC6Km0J40pW0"
      },
      "source": [
        "final_theta, final_bias, error_train_final, error_test_final = hypothesis(x_train, y_train, x_test, y_test, 0.01, 1000, median_y)\n"
      ],
      "execution_count": null,
      "outputs": []
    },
    {
      "cell_type": "code",
      "metadata": {
        "id": "g_k_aOnebZey",
        "outputId": "943d0371-0af3-44f9-d8e8-f3d42ec974a4",
        "colab": {
          "base_uri": "https://localhost:8080/"
        }
      },
      "source": [
        "print('Final Weights: ' + str(final_theta), '\\n')\n",
        "print('Final Bias: ' + str(final_bias), '\\n')\n",
        "print('Minimum Training Error: '+ str(error_train_final), '\\n')\n",
        "print('Minimum Testing Error: ' + str(error_test_final), '\\n')"
      ],
      "execution_count": null,
      "outputs": [
        {
          "output_type": "stream",
          "text": [
            "Final Weights: [[0.37142682 0.21647328 0.07062691]] \n",
            "\n",
            "Final Bias: 1.394407468775965 \n",
            "\n",
            "Minimum Training Error: 11195.982519780668 \n",
            "\n",
            "Minimum Testing Error: 11724.788401778818 \n",
            "\n"
          ],
          "name": "stdout"
        }
      ]
    },
    {
      "cell_type": "code",
      "metadata": {
        "id": "jOy4upPXq3gz"
      },
      "source": [
        "#predict(x_train, final_theta, final_bias)"
      ],
      "execution_count": null,
      "outputs": []
    },
    {
      "cell_type": "code",
      "metadata": {
        "id": "unYQB_LXzhzK"
      },
      "source": [
        "data = pd.read_csv('insurance.txt')\n",
        "def comparison(iterations, learning_rate):\n",
        "  error_list_train = []\n",
        "  error_list_test = []\n",
        "  for i in range(20):\n",
        "    x_training, y_training, x_testing, y_testing, median_y = preprocessing(data, i)\n",
        "    _, _, error_train_final, error_test_final = hypothesis(x_training, y_training, x_testing, y_testing, learning_rate, iterations, median_y)\n",
        "    error_list_train.append(error_train_final)\n",
        "    error_list_test.append(error_test_final)\n",
        "  error_list_train = np.array(error_list_train)\n",
        "  error_list_test = np.array(error_list_test)\n",
        "  return error_list_train, error_list_test\n",
        "\n"
      ],
      "execution_count": null,
      "outputs": []
    },
    {
      "cell_type": "code",
      "metadata": {
        "id": "OCmgme190wJg"
      },
      "source": [
        "e_train, e_test = comparison(1000, 0.01)"
      ],
      "execution_count": null,
      "outputs": []
    },
    {
      "cell_type": "code",
      "metadata": {
        "id": "V8USSMt81Ob2",
        "outputId": "71e454cc-8594-4332-c86c-bec20cf4a9fd",
        "colab": {
          "base_uri": "https://localhost:8080/"
        }
      },
      "source": [
        "print('Min Training Error: ' + str(np.amin(e_train)))\n",
        "print('Min Testing Error: ' + str(np.amin(e_test)))\n",
        "print('Max Training Error: ' + str(np.amax(e_train)))\n",
        "print('Max Testing Error: ' + str(np.amax(e_test)))\n",
        "print('Training Error Mean: ' + str(np.mean(e_train)))\n",
        "print('Testing Error Mean: ' + str(np.mean(e_test)))\n",
        "print('Training Error Std Dev: ' + str(np.std(e_train)))\n",
        "print('Testing Error Std Dev: ' + str(np.std(e_test)))\n",
        "\n"
      ],
      "execution_count": null,
      "outputs": [
        {
          "output_type": "stream",
          "text": [
            "Min Training Error: 11093.597208156898\n",
            "Min Testing Error: 10586.26380135618\n",
            "Max Training Error: 11677.764135343676\n",
            "Max Testing Error: 11988.280930249717\n",
            "Training Error Mean: 11311.444998714678\n",
            "Testing Error Mean: 11471.601928849588\n",
            "Training Error Std Dev: 159.5918432744345\n",
            "Testing Error Std Dev: 375.9569886795748\n"
          ],
          "name": "stdout"
        }
      ]
    },
    {
      "cell_type": "markdown",
      "metadata": {
        "id": "9CDGvpxhBVLD"
      },
      "source": [
        "Q2 - STOCHASTIC GRADIENT DESCENT"
      ]
    },
    {
      "cell_type": "code",
      "metadata": {
        "id": "-vkTgSRgrRAF"
      },
      "source": [
        "def SGD(x, y, epochs, learning_rate = 0.001):\n",
        " \n",
        "    number_of_features = x.shape[1] \n",
        "    \n",
        "    # Our case number of features = 3 (age, bmi and children)\n",
        "    w = np.ones(shape=(1,number_of_features)) \n",
        "    b = 0\n",
        "    total_samples = x.shape[0]\n",
        "    cost_list = []\n",
        "    iteration_list = []\n",
        "    \n",
        "    for i in range(epochs):    \n",
        "        index = i % (total_samples)\n",
        "        sample_x = x[index].reshape(3,1)\n",
        "        sample_y = y[index][0]\n",
        "        \n",
        "        \n",
        "        y_predicted = np.dot(w, sample_x) + b\n",
        "        \n",
        "        w_der = sample_x.T*(y_predicted-sample_y)\n",
        "        b_der = (y_predicted-sample_y)\n",
        "        \n",
        "        w = (w - learning_rate * w_der)\n",
        "        b = (b - learning_rate * b_der)\n",
        "        \n",
        "        cost = ((sample_y-y_predicted)*ymed)**2\n",
        "        \n",
        "        if i%50 == 0: # Every 50th iteration, record the cost and epoch value\n",
        "            cost_list.append(int(cost))\n",
        "            iteration_list.append(i)\n",
        "            \n",
        "        \n",
        "    return w,b,cost_list,iteration_list\n",
        "\n"
      ],
      "execution_count": null,
      "outputs": []
    },
    {
      "cell_type": "code",
      "metadata": {
        "id": "XaAdI5ybns_v"
      },
      "source": [
        "def testing(x,y,w,b) :\n",
        "  sum =0\n",
        "  for i in range(x.shape[0]) :\n",
        "    y_pred = np.dot(w,x[i].T) + b\n",
        "    cost = ((y_pred-y[i][0])*ymed)**2\n",
        "    sum += cost\n",
        "  sum = np.sqrt((1/x.shape[0])*sum)\n",
        "  return sum[0][0]"
      ],
      "execution_count": null,
      "outputs": []
    },
    {
      "cell_type": "code",
      "metadata": {
        "id": "QIEMv3dSUqiC"
      },
      "source": [
        "data = pd.read_csv('insurance.txt')\n",
        "\n",
        "\n",
        "y_data = data['charges']\n",
        "x_data = data.drop('charges', axis = 1)\n",
        "x_data = (x_data - x_data.mean())/x_data.std()\n",
        "ymed = y_data.median()\n",
        "y_data = y_data/ymed\n",
        "\n",
        "# random shuffle\n",
        "\n",
        "num_rows = int(data.shape[0]*0.7)\n",
        "indices = np.array(range(data.shape[0]))\n",
        "training_errors =[]\n",
        "testing_errors = []\n",
        "for i in range(20) :\n",
        "  np.random.seed(i)\n",
        "  np.random.shuffle(indices)\n",
        "  train = indices[:num_rows]\n",
        "  test = indices[num_rows:]\n",
        "\n",
        "  # splitting data\n",
        "  x_train, x_test = x_data.iloc[train].to_numpy(), x_data.iloc[test].to_numpy()\n",
        "  y_train, y_test = y_data.iloc[train].to_numpy(), y_data.iloc[test].to_numpy()\n",
        "  y_train = y_train.reshape((len(train), 1))\n",
        "  y_test = y_test.reshape((len(test), 1))\n",
        "  w_sgd, b_sgd,cost_list_sgd, epoch_list_sgd = SGD(x_train,y_train,10000)\n",
        "  training_errors.append(np.sqrt((1/x_train.shape[0])*sum(cost_list_sgd)))\n",
        "  testing_errors.append((testing(x_test,y_test,w_sgd,b_sgd)))"
      ],
      "execution_count": null,
      "outputs": []
    },
    {
      "cell_type": "code",
      "metadata": {
        "id": "H7TYVYTnnwep",
        "outputId": "ff92dcdf-d75a-457a-8ee1-1db8c8434991",
        "colab": {
          "base_uri": "https://localhost:8080/"
        }
      },
      "source": [
        "training_errors"
      ],
      "execution_count": null,
      "outputs": [
        {
          "output_type": "execute_result",
          "data": {
            "text/plain": [
              "[5698.290146434167,\n",
              " 5170.646998026952,\n",
              " 5715.275096664688,\n",
              " 5970.397353148883,\n",
              " 6096.845173484763,\n",
              " 5351.275470713645,\n",
              " 5272.145957159167,\n",
              " 5978.576222968656,\n",
              " 5592.198044891705,\n",
              " 5424.076983591921,\n",
              " 5541.188141186477,\n",
              " 5565.512380229441,\n",
              " 5118.008627265168,\n",
              " 5349.855544319442,\n",
              " 5873.168124113473,\n",
              " 5067.9262281798765,\n",
              " 5339.566659287471,\n",
              " 5535.4804452382805,\n",
              " 5241.5399179571705,\n",
              " 5739.988337192953]"
            ]
          },
          "metadata": {
            "tags": []
          },
          "execution_count": 172
        }
      ]
    },
    {
      "cell_type": "code",
      "metadata": {
        "id": "me9XryUjnyaU",
        "outputId": "60d2891e-f8c0-49e8-864f-00346543da3b",
        "colab": {
          "base_uri": "https://localhost:8080/",
          "height": 312
        }
      },
      "source": [
        "plt.plot(epoch_list_sgd,cost_list_sgd)\n",
        "plt.title(\"Learning Rate = 0.001\")\n",
        "plt.xlabel('Epochs')\n",
        "plt.ylabel('Cost')"
      ],
      "execution_count": null,
      "outputs": [
        {
          "output_type": "execute_result",
          "data": {
            "text/plain": [
              "Text(0, 0.5, 'Cost')"
            ]
          },
          "metadata": {
            "tags": []
          },
          "execution_count": 173
        },
        {
          "output_type": "display_data",
          "data": {
            "image/png": "[encoded data removed]",
            "text/plain": [
              "<Figure size 432x288 with 1 Axes>"
            ]
          },
          "metadata": {
            "tags": [],
            "needs_background": "light"
          }
        }
      ]
    },
    {
      "cell_type": "code",
      "metadata": {
        "id": "-3BT8Dp0uHeg",
        "outputId": "1a226f30-e512-4551-e3bc-f51b9babfb35",
        "colab": {
          "base_uri": "https://localhost:8080/"
        }
      },
      "source": [
        "np.min(training_errors),np.mean(training_errors),np.max(training_errors),np.var(training_errors)"
      ],
      "execution_count": null,
      "outputs": [
        {
          "output_type": "execute_result",
          "data": {
            "text/plain": [
              "(5067.9262281798765, 5532.098092602715, 6096.845173484763, 86007.46470816006)"
            ]
          },
          "metadata": {
            "tags": []
          },
          "execution_count": 174
        }
      ]
    },
    {
      "cell_type": "code",
      "metadata": {
        "id": "ig0jOewGuI1e",
        "outputId": "b65f9f92-ffad-4197-bb1f-ff2afdba10ea",
        "colab": {
          "base_uri": "https://localhost:8080/"
        }
      },
      "source": [
        "np.min(testing_errors),np.mean(testing_errors),np.max(testing_errors),np.var(testing_errors)"
      ],
      "execution_count": null,
      "outputs": [
        {
          "output_type": "execute_result",
          "data": {
            "text/plain": [
              "(10153.737518748085,\n",
              " 11431.759942161665,\n",
              " 12687.447174658562,\n",
              " 370143.27366863925)"
            ]
          },
          "metadata": {
            "tags": []
          },
          "execution_count": 175
        }
      ]
    },
    {
      "cell_type": "code",
      "metadata": {
        "id": "RDlgUxgMvDo0"
      },
      "source": [
        ""
      ],
      "execution_count": null,
      "outputs": []
    }
  ]
}